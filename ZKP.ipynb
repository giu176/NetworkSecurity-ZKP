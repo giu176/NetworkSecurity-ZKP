{
  "nbformat": 4,
  "nbformat_minor": 0,
  "metadata": {
    "colab": {
      "name": "ZKP.ipynb",
      "provenance": [],
      "collapsed_sections": [
        "aQV7YvncuZpF",
        "BzpLFVEybZ4d",
        "u7liVUcmhkkO"
      ],
      "toc_visible": true,
      "authorship_tag": "ABX9TyNCRmpZgzXZasA7sGMI9/EG",
      "include_colab_link": true
    },
    "kernelspec": {
      "name": "python3",
      "display_name": "Python 3"
    },
    "language_info": {
      "name": "python"
    }
  },
  "cells": [
    {
      "cell_type": "markdown",
      "metadata": {
        "id": "view-in-github",
        "colab_type": "text"
      },
      "source": [
        "<a href=\"https://colab.research.google.com/github/giu176/NetworkSecurity-ZKP/blob/main/ZKP.ipynb\" target=\"_parent\"><img src=\"https://colab.research.google.com/assets/colab-badge.svg\" alt=\"Open In Colab\"/></a>"
      ]
    },
    {
      "cell_type": "markdown",
      "source": [
        "# ZERO KNOWLEDGE PROOF\n",
        "\n",
        "---\n",
        "\n",
        "\n",
        "\n",
        "\n",
        "\n",
        "Project for Network Security and Cryptography\n",
        "by Giulio Bosisio"
      ],
      "metadata": {
        "id": "2TEqcwkctiyw"
      }
    },
    {
      "cell_type": "markdown",
      "source": [
        "The aim of the simulation is to perform a ZK-SNARK (Zero Knowledge - Succinct Non-Interactive Argument of Knowledge) computation of a python script. Succint means that the computation produce a proof that is both small in size and fast to verify. This proof is also constructed without interacting the verifier which makes the computation Non-Interactive, a classical Interactive protocol would have required the Verifier to challenge the Prover in real time. With a SNARK proof (a textual file) the Verifier can perform a verification whenever he wants without gaining any additional information about the witness (solution of the problem, the python script in this simulation) the verifier knows only the output of a specific input of the program (Zero Knowledge)."
      ],
      "metadata": {
        "id": "t1K0l7syB3MF"
      }
    },
    {
      "cell_type": "markdown",
      "source": [
        "Properties of Zero Knowledge:\n",
        "*   Completeness: If the Prover is honest, then it will eventually convince the Verifier.\n",
        "*   Soundness: The Prover can only convince the Verifier if the statement is true.\n",
        "*   Zero-knowledge(ness): The Verifier learns no information beyond the fact that the statement is true.\n",
        "\n"
      ],
      "metadata": {
        "id": "WTMsA9W2twZF"
      }
    },
    {
      "cell_type": "markdown",
      "source": [
        "### Initialization\n",
        "\n",
        "\n",
        "---\n",
        "\n",
        "Installing pysnark and creating folders:"
      ],
      "metadata": {
        "id": "VQucfVeKPE9-"
      }
    },
    {
      "cell_type": "code",
      "source": [
        "!mkdir TrustedParty && mkdir Prover && mkdir Verifier\n",
        "!pip3 install git+https://github.com/meilof/pysnark"
      ],
      "metadata": {
        "colab": {
          "base_uri": "https://localhost:8080/"
        },
        "id": "YYa8aFSBPRd0",
        "outputId": "548611be-416a-4914-d36a-626abe9f0899"
      },
      "execution_count": 1,
      "outputs": [
        {
          "output_type": "stream",
          "name": "stdout",
          "text": [
            "Looking in indexes: https://pypi.org/simple, https://us-python.pkg.dev/colab-wheels/public/simple/\n",
            "Collecting git+https://github.com/meilof/pysnark\n",
            "  Cloning https://github.com/meilof/pysnark to /tmp/pip-req-build-vzqtd5oj\n",
            "  Running command git clone -q https://github.com/meilof/pysnark /tmp/pip-req-build-vzqtd5oj\n",
            "Building wheels for collected packages: PySNARK\n",
            "  Building wheel for PySNARK (setup.py) ... \u001b[?25l\u001b[?25hdone\n",
            "  Created wheel for PySNARK: filename=PySNARK-0.3.1-py3-none-any.whl size=116886 sha256=a1248ea8151bb6a13024bbd6e06305a37d8c8fa56cdd47535bd15f5a5bb89d03\n",
            "  Stored in directory: /tmp/pip-ephem-wheel-cache-ahsworm2/wheels/ee/ac/e0/e83d7fb143db3e217346b033cccb8100fecdac64bc9d9237ab\n",
            "Successfully built PySNARK\n",
            "Installing collected packages: PySNARK\n",
            "Successfully installed PySNARK-0.3.1\n"
          ]
        }
      ]
    },
    {
      "cell_type": "markdown",
      "source": [
        "Default backend for pysnark:\n",
        "```\n",
        "!pip3 install python-libsnark\n",
        "```\n",
        "libsnark backend doesn't work on Google Colab, so I tried another backend.\n",
        "\n",
        "Install **one** between: [qaptools](https://github.com/Charterhouse/qaptools) and [snarkjs](https://github.com/iden3/snarkjs).\n"
      ],
      "metadata": {
        "id": "n7owVsA0PKJH"
      }
    },
    {
      "cell_type": "markdown",
      "source": [
        "### Installing snarkjs backend\n",
        "\n",
        "\n",
        "---\n",
        "\n"
      ],
      "metadata": {
        "id": "aQV7YvncuZpF"
      }
    },
    {
      "cell_type": "code",
      "source": [
        "!npm install -g npm"
      ],
      "metadata": {
        "colab": {
          "base_uri": "https://localhost:8080/"
        },
        "id": "il0_3pN9Wj-O",
        "outputId": "0ed1b81d-40df-41a9-f4c6-799c369b27b3"
      },
      "execution_count": 2,
      "outputs": [
        {
          "output_type": "stream",
          "name": "stdout",
          "text": [
            "\u001b[K\u001b[?25h/tools/node/bin/npm -> /tools/node/lib/node_modules/npm/bin/npm-cli.js\n",
            "/tools/node/bin/npx -> /tools/node/lib/node_modules/npm/bin/npx-cli.js\n",
            "\u001b[K\u001b[?25h+ npm@8.18.0\n",
            "added 67 packages from 21 contributors, removed 296 packages and updated 138 packages in 5.721s\n"
          ]
        }
      ]
    },
    {
      "cell_type": "code",
      "source": [
        "!npm install snarkjs -g\n"
      ],
      "metadata": {
        "colab": {
          "base_uri": "https://localhost:8080/"
        },
        "id": "0d7sk6-hAsXu",
        "outputId": "838fc6ac-e20a-495d-fac4-bcba9a57fd43"
      },
      "execution_count": 3,
      "outputs": [
        {
          "output_type": "stream",
          "name": "stdout",
          "text": [
            "\u001b[K\u001b[?25h\n",
            "added 38 packages, and audited 39 packages in 5s\n",
            "\n",
            "2 packages are looking for funding\n",
            "  run `npm fund` for details\n",
            "\n",
            "found \u001b[32m\u001b[1m0\u001b[22m\u001b[39m vulnerabilities\n"
          ]
        }
      ]
    },
    {
      "cell_type": "code",
      "source": [
        "!npm install https://github.com/iden3/r1csfile.git -g"
      ],
      "metadata": {
        "colab": {
          "base_uri": "https://localhost:8080/"
        },
        "id": "LtDJzYPhFSIh",
        "outputId": "89afc614-4b0c-4032-dae1-1716f5ea10cd"
      },
      "execution_count": 4,
      "outputs": [
        {
          "output_type": "stream",
          "name": "stdout",
          "text": [
            "\u001b[K\u001b[?25h\n",
            "added 10 packages, and audited 11 packages in 2s\n",
            "\n",
            "found \u001b[32m\u001b[1m0\u001b[22m\u001b[39m vulnerabilities\n"
          ]
        }
      ]
    },
    {
      "cell_type": "code",
      "source": [
        "!npm install r1csfile"
      ],
      "metadata": {
        "colab": {
          "base_uri": "https://localhost:8080/"
        },
        "id": "KlUz5x5SYSX_",
        "outputId": "ce3b3801-16b9-472e-d6b2-8a55c9b9c087"
      },
      "execution_count": 9,
      "outputs": [
        {
          "output_type": "stream",
          "name": "stdout",
          "text": [
            "\u001b[K\u001b[?25h\n",
            "added 10 packages, and audited 11 packages in 633ms\n",
            "\n",
            "found \u001b[32m\u001b[1m0\u001b[22m\u001b[39m vulnerabilities\n"
          ]
        }
      ]
    },
    {
      "cell_type": "markdown",
      "source": [
        "### Installing qaptools backend\n",
        "\n",
        "\n",
        "---\n"
      ],
      "metadata": {
        "id": "cJeYb3-3O_AE"
      }
    },
    {
      "cell_type": "code",
      "source": [
        "!sudo apt install build-essential cmake git libgmp3-dev libprocps-dev python3-markdown libboost-program-options-dev libssl-dev python3 pkg-config\n",
        "!git clone --recursive https://github.com/Charterhouse/qaptools.git\n",
        "!cd qaptools/ && mkdir build && cd build/ && cmake .. -DCURVE=ALT_BN128 -DUSE_PT_COMPRESSION=OFF -DWITH_PROCPS=OFF -DBINARY_OUTPUT=OFF && make && sudo make install"
      ],
      "metadata": {
        "id": "1ZIRJw4-Q7Vd"
      },
      "execution_count": null,
      "outputs": []
    },
    {
      "cell_type": "markdown",
      "source": [
        "## Trusted Party\n",
        "\n",
        "\n",
        "---\n",
        "\n"
      ],
      "metadata": {
        "id": "BzpLFVEybZ4d"
      }
    },
    {
      "cell_type": "markdown",
      "source": [
        "The example script solves a quadratic equation (as seen in this [article](https://medium.com/@VitalikButerin/quadratic-arithmetic-programs-from-zero-to-hero-f6d558cea649))\n",
        "\n",
        "\n",
        "\\begin{equation}\n",
        "x^3+x+5\n",
        "\\end{equation}\n",
        " and output the result."
      ],
      "metadata": {
        "id": "zJuUx6ufSUu-"
      }
    },
    {
      "cell_type": "markdown",
      "source": [
        " example.py:\n",
        "\n",
        "\n",
        "```\n",
        "import sys\n",
        "\n",
        "from pysnark.runtime import snark, PrivVal\n",
        "\n",
        "@snark\n",
        "def equation(x):\n",
        "    return x*x*x+x+5\n",
        "\n",
        "print(\"output:\", equation(int(sys.argv[1])))\n",
        "```\n",
        "\n"
      ],
      "metadata": {
        "id": "oOf3o94JSnHE"
      }
    },
    {
      "cell_type": "markdown",
      "source": [
        "Downloading the script:"
      ],
      "metadata": {
        "id": "6nDVeuaZfISb"
      }
    },
    {
      "cell_type": "code",
      "source": [
        "!cd TrustedParty && wget https://raw.githubusercontent.com/giu176/NetworkSecurity-ZKP/main/example.py"
      ],
      "metadata": {
        "colab": {
          "base_uri": "https://localhost:8080/"
        },
        "id": "FBrxi0ckNp9k",
        "outputId": "509b5a73-6344-4958-abd3-e04df2c00564"
      },
      "execution_count": 5,
      "outputs": [
        {
          "output_type": "stream",
          "name": "stdout",
          "text": [
            "--2022-08-25 14:41:36--  https://raw.githubusercontent.com/giu176/NetworkSecurity-ZKP/main/example.py\n",
            "Resolving raw.githubusercontent.com (raw.githubusercontent.com)... 185.199.108.133, 185.199.109.133, 185.199.110.133, ...\n",
            "Connecting to raw.githubusercontent.com (raw.githubusercontent.com)|185.199.108.133|:443... connected.\n",
            "HTTP request sent, awaiting response... 200 OK\n",
            "Length: 147 [text/plain]\n",
            "Saving to: ‘example.py’\n",
            "\n",
            "\rexample.py            0%[                    ]       0  --.-KB/s               \rexample.py          100%[===================>]     147  --.-KB/s    in 0s      \n",
            "\n",
            "2022-08-25 14:41:36 (10.9 MB/s) - ‘example.py’ saved [147/147]\n",
            "\n"
          ]
        }
      ]
    },
    {
      "cell_type": "markdown",
      "source": [
        "The Trusted Party runs the the script with an input of its choiche. (input x=3 to follow the example in the [article](https://medium.com/@VitalikButerin/quadratic-arithmetic-programs-from-zero-to-hero-f6d558cea649))."
      ],
      "metadata": {
        "id": "welGC-2dXXzs"
      }
    },
    {
      "cell_type": "code",
      "source": [
        "!cd TrustedParty && python example.py 3"
      ],
      "metadata": {
        "colab": {
          "base_uri": "https://localhost:8080/"
        },
        "id": "L5bkahFCNzuV",
        "outputId": "9bd91b3e-d5e4-4c42-dd5c-98562590c6a5"
      },
      "execution_count": 6,
      "outputs": [
        {
          "output_type": "stream",
          "name": "stdout",
          "text": [
            "*** Error loading backend pysnark.libsnark.backend: No module named 'libsnark'\n",
            "*** Error loading backend pysnark.libsnark.backendgg: No module named 'libsnark'\n",
            "*** Error loading backend pysnark.qaptools.backend: Could not find qaptools executable qapgen\n",
            "output: 35\n",
            "snarkjs witness.wtns and circuit.r1cs written; see readme\n"
          ]
        }
      ]
    },
    {
      "cell_type": "markdown",
      "source": [
        "At this point pysnark execute a runtime script that generates a circuit file and a witness file. The circuit is a conversion of the complex mathematical statements inside the python script into simple statements (y = x or y = x [op] z) where [op] is an operator: \"+\" \"-\" \"*\" or \"/\". \n",
        "\n",
        "The quadratic function in the example will be:\n",
        "\\begin{equation}\n",
        "k=input\\times input\n",
        "\\\\\n",
        "y=k\\times input\n",
        "\\\\\n",
        "z=y+input\n",
        "\\\\\n",
        "output=z+5\n",
        "\\end{equation}\n",
        "\n",
        "This is called circuit because the simple statements can be used to build a logic gates circuit using AND gates and OR gates that performs the mathematical operation.\n",
        "\n",
        "Each logic gate in the circuit is now converted using the standard format R1CS (Rank-1 Constraint System) into a triple of vectors (A,B,C) such as:\n",
        "\\begin{equation}\n",
        "S\\cdot A\\times S\\cdot B - S\\cdot C=0\n",
        "\\end{equation}\n",
        "\n",
        "Where S is the witness: a vector containing 1, the input, the output and all the solution of the simple statements. \n",
        "\n",
        "In our example:\n",
        "\n",
        "\\begin{equation}\n",
        "S=[1,input,output,k,y,z]\n",
        "\\\\\n",
        "S=[1,3,35,9,27,30]\n",
        "\\end{equation}\n",
        "\n",
        "The output of the runtime application is circuit.r1cs which contains every A,B and C vectors for every logic gate and the witness.wtns file that contains S.\n",
        "\n",
        "Those file can be seen if the installation of the backend is skipped because otherwise one of the three available backends for pysnark is called and gets the vectors directly from the runtime script without producing any file."
      ],
      "metadata": {
        "id": "P1EFg3aZFjPa"
      }
    },
    {
      "cell_type": "markdown",
      "source": [
        "To visualize the content of circuit.r1cs execute the print_circuit script (the console log function **doesn't stop by itself**, use the STOP button to exit the console after a few seconds):"
      ],
      "metadata": {
        "id": "LyzBfaQEgZT5"
      }
    },
    {
      "cell_type": "code",
      "source": [
        "!cd TrustedParty && wget https://raw.githubusercontent.com/giu176/NetworkSecurity-ZKP/main/print_circuit.js\n",
        "!cd TrustedParty && node print_circuit.js"
      ],
      "metadata": {
        "id": "ovwJd11DRemW"
      },
      "execution_count": null,
      "outputs": []
    },
    {
      "cell_type": "markdown",
      "source": [
        "Distributing files to the Prover:"
      ],
      "metadata": {
        "id": "i4XNmK0MiQWI"
      }
    },
    {
      "cell_type": "code",
      "source": [
        "!cp ./TrustedParty/example.py ./Prover/example.py\n",
        "!cp ./TrustedParty/pysnark_schedule ./Prover/pysnark_schedule\n",
        "!cp ./TrustedParty/pysnark_masterek ./Prover/pysnark_masterek\n",
        "!cp ./TrustedParty/pysnark_ek_main ./Prover/pysnark_ek_main\n",
        "!cp ./TrustedParty/pysnark_eqs_main ./Prover/pysnark_eqs_main\n",
        "!cp ./TrustedParty/pysnark_masterpk ./Prover/pysnark_masterpk"
      ],
      "metadata": {
        "id": "MfwIkaV7iYzS"
      },
      "execution_count": null,
      "outputs": []
    },
    {
      "cell_type": "markdown",
      "source": [
        "Distributing files to the Verifier:"
      ],
      "metadata": {
        "id": "abZ2CjIjjL5N"
      }
    },
    {
      "cell_type": "code",
      "source": [
        "!cp ./TrustedParty/pysnark_schedule ./Verifier//pysnark_schedule\n",
        "!cp ./TrustedParty/pysnark_masterpk ./Verifier/pysnark_masterpk\n",
        "!cp ./TrustedParty/pysnark_vk_main ./Verifier/pysnark_vk_main"
      ],
      "metadata": {
        "id": "pGQ_KYMJjOiN"
      },
      "execution_count": null,
      "outputs": []
    },
    {
      "cell_type": "markdown",
      "source": [
        "## Prover\n",
        "\n",
        "\n",
        "---\n",
        "\n"
      ],
      "metadata": {
        "id": "u7liVUcmhkkO"
      }
    },
    {
      "cell_type": "code",
      "source": [
        "!cd Prover && python example.py 3"
      ],
      "metadata": {
        "colab": {
          "base_uri": "https://localhost:8080/"
        },
        "id": "5jBP8ha-hrVe",
        "outputId": "bbaca897-67a4-42f0-81e4-12f23a580e53"
      },
      "execution_count": null,
      "outputs": [
        {
          "output_type": "stream",
          "name": "stdout",
          "text": [
            "*** Error loading backend pysnark.libsnark.backend: No module named 'libsnark'\n",
            "*** Error loading backend pysnark.libsnark.backendgg: No module named 'libsnark'\n",
            "output: 35\n",
            "*** qaptools subroutines:\n",
            "***    id: main function: main digest: 314adf18c4 #constraints: 5 *\n",
            "*** verification keys missing, skipping verification\n",
            "***  prover keys/eqs:  pysnark_masterek pysnark_ek_main pysnark_eqs_main pysnark_schedule\n",
            "***  prover data:      \n",
            "***  verifier keys:    pysnark_masterpk pysnark_vk_main pysnark_schedule\n",
            "***  verifier data:     pysnark_proof pysnark_values\n",
            "***  verifier cmd:     qapver pysnark_masterpk pysnark_schedule pysnark_proof pysnark_values\n"
          ]
        }
      ]
    },
    {
      "cell_type": "markdown",
      "source": [
        "Distributing files to the Verifier:"
      ],
      "metadata": {
        "id": "DOOT1qtQkHPH"
      }
    },
    {
      "cell_type": "code",
      "source": [
        "!cp ./Prover/pysnark_proof ./Verifier/pysnark_proof\n",
        "!cp ./Prover/pysnark_values ./Verifier/pysnark_values"
      ],
      "metadata": {
        "id": "lTgqQYUNkHpk"
      },
      "execution_count": null,
      "outputs": []
    },
    {
      "cell_type": "markdown",
      "source": [
        "## Verifier\n",
        "\n",
        "\n",
        "---\n",
        "\n"
      ],
      "metadata": {
        "id": "aTOLQ0WUhoc4"
      }
    },
    {
      "cell_type": "code",
      "source": [
        "!cd Verifier && python -m pysnark.qaptools.runqapver"
      ],
      "metadata": {
        "id": "C0YKM5JlkZxr"
      },
      "execution_count": null,
      "outputs": []
    }
  ]
}