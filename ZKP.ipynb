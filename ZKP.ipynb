{
  "nbformat": 4,
  "nbformat_minor": 0,
  "metadata": {
    "colab": {
      "name": "ZKP.ipynb",
      "provenance": [],
      "collapsed_sections": [
        "aQV7YvncuZpF",
        "BzpLFVEybZ4d",
        "u7liVUcmhkkO"
      ],
      "authorship_tag": "ABX9TyMs3xb9AEnR37U668U162Ys",
      "include_colab_link": true
    },
    "kernelspec": {
      "name": "python3",
      "display_name": "Python 3"
    },
    "language_info": {
      "name": "python"
    }
  },
  "cells": [
    {
      "cell_type": "markdown",
      "metadata": {
        "id": "view-in-github",
        "colab_type": "text"
      },
      "source": [
        "<a href=\"https://colab.research.google.com/github/giu176/NetworkSecurity-ZKP/blob/main/ZKP.ipynb\" target=\"_parent\"><img src=\"https://colab.research.google.com/assets/colab-badge.svg\" alt=\"Open In Colab\"/></a>"
      ]
    },
    {
      "cell_type": "markdown",
      "source": [
        "# ZERO KNOWLEDGE PROOF\n",
        "\n",
        "---\n",
        "\n",
        "\n",
        "\n",
        "\n",
        "\n",
        "Project for Network Security and Cryptography\n",
        "by Giulio Bosisio"
      ],
      "metadata": {
        "id": "2TEqcwkctiyw"
      }
    },
    {
      "cell_type": "markdown",
      "source": [
        "The aim of the simulation is to perform a ZK-SNARK (Zero Knowledge - Succinct Non-Interactive Argument of Knowledge) computation of a python script. Succint means that the computation produce a proof that is both small in size and fast to verify. This proof is also constructed without interacting the verifier which makes the computation Non-Interactive, a classical Interactive protocol would have required the Verifier to challenge the Prover in real time. With a SNARK proof (a textual file) the Verifier can perform a verification whenever he wants without gaining any additional information about the witness (solution of the problem, the python script in this simulation) the verifier knows only the output of a specific input of the program (Zero Knowledge)."
      ],
      "metadata": {
        "id": "t1K0l7syB3MF"
      }
    },
    {
      "cell_type": "markdown",
      "source": [
        "Properties of Zero Knowledge:\n",
        "*   Completeness: If the Prover is honest, then it will eventually convince the Verifier.\n",
        "*   Soundness: The Prover can only convince the Verifier if the statement is true.\n",
        "*   Zero-knowledge(ness): The Verifier learns no information beyond the fact that the statement is true.\n",
        "\n"
      ],
      "metadata": {
        "id": "WTMsA9W2twZF"
      }
    },
    {
      "cell_type": "markdown",
      "source": [
        "## Installing dependencies:\n",
        "\n",
        "\n",
        "---\n",
        "\n"
      ],
      "metadata": {
        "id": "aQV7YvncuZpF"
      }
    },
    {
      "cell_type": "code",
      "source": [
        "!mkdir TrustedParty && mkdir Prover && mkdir Verifier\n",
        "!pip3 install git+https://github.com/meilof/pysnark"
      ],
      "metadata": {
        "colab": {
          "base_uri": "https://localhost:8080/"
        },
        "id": "JgBjateRd293",
        "outputId": "19834585-736d-4894-8c49-e69a3d239fe0"
      },
      "execution_count": 4,
      "outputs": [
        {
          "output_type": "stream",
          "name": "stdout",
          "text": [
            "mkdir: cannot create directory ‘TrustedParty’: File exists\n",
            "Looking in indexes: https://pypi.org/simple, https://us-python.pkg.dev/colab-wheels/public/simple/\n",
            "Collecting git+https://github.com/meilof/pysnark\n",
            "  Cloning https://github.com/meilof/pysnark to /tmp/pip-req-build-2ncrfp7d\n",
            "  Running command git clone -q https://github.com/meilof/pysnark /tmp/pip-req-build-2ncrfp7d\n"
          ]
        }
      ]
    },
    {
      "cell_type": "code",
      "execution_count": null,
      "metadata": {
        "id": "luvsHVNNso-E"
      },
      "outputs": [],
      "source": [
        "!sudo apt install build-essential cmake git libgmp3-dev libprocps-dev python3-markdown libboost-program-options-dev libssl-dev python3 pkg-config"
      ]
    },
    {
      "cell_type": "markdown",
      "source": [
        "Default backend for pysnark:\n",
        "```\n",
        "pip3 install python-libsnark\n",
        "```\n",
        "libsnark backend doesn't work on Google Colab, so I used another backend ([qaptools](https://github.com/Charterhouse/qaptools)).\n",
        "\n",
        "Building qaptools backend:"
      ],
      "metadata": {
        "id": "sT17Viq3ZFEV"
      }
    },
    {
      "cell_type": "code",
      "source": [
        "!git clone --recursive https://github.com/Charterhouse/qaptools.git\n",
        "!cd qaptools/ && mkdir build && cd build/ && cmake .. -DCURVE=ALT_BN128 -DUSE_PT_COMPRESSION=OFF -DWITH_PROCPS=OFF -DBINARY_OUTPUT=OFF && make && sudo make install"
      ],
      "metadata": {
        "colab": {
          "base_uri": "https://localhost:8080/"
        },
        "id": "1ZIRJw4-Q7Vd",
        "outputId": "9afc1ade-4995-45e0-c200-8a989e5ed6c9"
      },
      "execution_count": 6,
      "outputs": [
        {
          "output_type": "stream",
          "name": "stdout",
          "text": [
            "Cloning into 'qaptools'...\n",
            "remote: Enumerating objects: 70, done.\u001b[K\n",
            "Unpacking objects:   1% (1/70)   \rUnpacking objects:   2% (2/70)   \rUnpacking objects:   4% (3/70)   \rUnpacking objects:   5% (4/70)   \rUnpacking objects:   7% (5/70)   \rUnpacking objects:   8% (6/70)   \rUnpacking objects:  10% (7/70)   \rUnpacking objects:  11% (8/70)   \rUnpacking objects:  12% (9/70)   \rUnpacking objects:  14% (10/70)   \rUnpacking objects:  15% (11/70)   \rUnpacking objects:  17% (12/70)   \rUnpacking objects:  18% (13/70)   \rUnpacking objects:  20% (14/70)   \rUnpacking objects:  21% (15/70)   \rUnpacking objects:  22% (16/70)   \rUnpacking objects:  24% (17/70)   \rUnpacking objects:  25% (18/70)   \rUnpacking objects:  27% (19/70)   \rUnpacking objects:  28% (20/70)   \rUnpacking objects:  30% (21/70)   \rUnpacking objects:  31% (22/70)   \rUnpacking objects:  32% (23/70)   \rUnpacking objects:  34% (24/70)   \rUnpacking objects:  35% (25/70)   \rUnpacking objects:  37% (26/70)   \rUnpacking objects:  38% (27/70)   \rUnpacking objects:  40% (28/70)   \rUnpacking objects:  41% (29/70)   \rUnpacking objects:  42% (30/70)   \rUnpacking objects:  44% (31/70)   \rremote: Total 70 (delta 0), reused 0 (delta 0), pack-reused 70\u001b[K\n",
            "Unpacking objects: 100% (70/70), done.\n",
            "Submodule 'depends/ate-pairing' (https://github.com/herumi/ate-pairing) registered for path 'depends/ate-pairing'\n",
            "Submodule 'depends/xbyak' (https://github.com/herumi/xbyak) registered for path 'depends/xbyak'\n",
            "Cloning into '/content/qaptools/depends/ate-pairing'...\n",
            "remote: Enumerating objects: 1479, done.        \n",
            "remote: Total 1479 (delta 0), reused 0 (delta 0), pack-reused 1479        \n",
            "Receiving objects: 100% (1479/1479), 553.64 KiB | 8.39 MiB/s, done.\n",
            "Resolving deltas: 100% (947/947), done.\n",
            "Cloning into '/content/qaptools/depends/xbyak'...\n",
            "remote: Enumerating objects: 6461, done.        \n",
            "remote: Counting objects: 100% (1489/1489), done.        \n",
            "remote: Compressing objects: 100% (439/439), done.        \n",
            "remote: Total 6461 (delta 1084), reused 1349 (delta 1038), pack-reused 4972        \n",
            "Receiving objects: 100% (6461/6461), 2.35 MiB | 16.69 MiB/s, done.\n",
            "Resolving deltas: 100% (4466/4466), done.\n",
            "Submodule path 'depends/ate-pairing': checked out '931fa7a91f767f22b327264678bee9f1333ce954'\n",
            "Submodule path 'depends/xbyak': checked out '72b4e95dabc5a3d8e3d410aa763c3f2a8677b966'\n",
            "-- The C compiler identification is GNU 7.5.0\n",
            "-- The CXX compiler identification is GNU 7.5.0\n",
            "-- Detecting C compiler ABI info\n",
            "-- Detecting C compiler ABI info - done\n",
            "-- Check for working C compiler: /usr/bin/cc - skipped\n",
            "-- Detecting C compile features\n",
            "-- Detecting C compile features - done\n",
            "-- Detecting CXX compiler ABI info\n",
            "-- Detecting CXX compiler ABI info - done\n",
            "-- Check for working CXX compiler: /usr/bin/c++ - skipped\n",
            "-- Detecting CXX compile features\n",
            "-- Detecting CXX compile features - done\n",
            "-- Configuring done\n",
            "-- Generating done\n",
            "\u001b[33mCMake Warning:\n",
            "  Manually-specified variables were not used by the project:\n",
            "\n",
            "    BINARY_OUTPUT\n",
            "    CURVE\n",
            "    USE_PT_COMPRESSION\n",
            "    WITH_PROCPS\n",
            "\n",
            "\u001b[0m\n",
            "-- Build files have been written to: /content/qaptools/build\n",
            "[  4%] \u001b[32mBuilding CXX object CMakeFiles/zm.dir/depends/ate-pairing/src/zm.cpp.o\u001b[0m\n",
            "[  8%] \u001b[32mBuilding CXX object CMakeFiles/zm.dir/depends/ate-pairing/src/zm2.cpp.o\u001b[0m\n",
            "[ 12%] \u001b[32m\u001b[1mLinking CXX static library libzm.a\u001b[0m\n",
            "[ 12%] Built target zm\n",
            "[ 16%] \u001b[32mBuilding CXX object CMakeFiles/qap.dir/key.cpp.o\u001b[0m\n",
            "[ 20%] \u001b[32mBuilding CXX object CMakeFiles/qap.dir/proof.cpp.o\u001b[0m\n",
            "[ 24%] \u001b[32mBuilding CXX object CMakeFiles/qap.dir/modp.cpp.o\u001b[0m\n",
            "[ 28%] \u001b[32mBuilding CXX object CMakeFiles/qap.dir/base.cpp.o\u001b[0m\n",
            "[ 32%] \u001b[32mBuilding CXX object CMakeFiles/qap.dir/qap2key.cpp.o\u001b[0m\n",
            "[ 36%] \u001b[32mBuilding CXX object CMakeFiles/qap.dir/fft.cpp.o\u001b[0m\n",
            "[ 40%] \u001b[32mBuilding CXX object CMakeFiles/qap.dir/prove.cpp.o\u001b[0m\n",
            "[ 44%] \u001b[32mBuilding CXX object CMakeFiles/qap.dir/qap.cpp.o\u001b[0m\n",
            "[ 48%] \u001b[32mBuilding CXX object CMakeFiles/qap.dir/verify.cpp.o\u001b[0m\n",
            "[ 52%] \u001b[32m\u001b[1mLinking CXX static library libqap.a\u001b[0m\n",
            "[ 52%] Built target qap\n",
            "[ 56%] \u001b[32mBuilding CXX object CMakeFiles/qapgen.dir/qapgen.cpp.o\u001b[0m\n",
            "[ 60%] \u001b[32m\u001b[1mLinking CXX executable qapgen\u001b[0m\n",
            "[ 60%] Built target qapgen\n",
            "[ 64%] \u001b[32mBuilding CXX object CMakeFiles/qapcoeffcache.dir/qapcoeffcache.cpp.o\u001b[0m\n",
            "[ 68%] \u001b[32m\u001b[1mLinking CXX executable qapcoeffcache\u001b[0m\n",
            "[ 68%] Built target qapcoeffcache\n",
            "[ 72%] \u001b[32mBuilding CXX object CMakeFiles/qapgenf.dir/qapgenf.cpp.o\u001b[0m\n",
            "[ 76%] \u001b[32m\u001b[1mLinking CXX executable qapgenf\u001b[0m\n",
            "[ 76%] Built target qapgenf\n",
            "[ 80%] \u001b[32mBuilding CXX object CMakeFiles/qapinput.dir/qapinput.cpp.o\u001b[0m\n",
            "[ 84%] \u001b[32m\u001b[1mLinking CXX executable qapinput\u001b[0m\n",
            "[ 84%] Built target qapinput\n",
            "[ 88%] \u001b[32mBuilding CXX object CMakeFiles/qapprove.dir/qapprove.cpp.o\u001b[0m\n",
            "[ 92%] \u001b[32m\u001b[1mLinking CXX executable qapprove\u001b[0m\n",
            "[ 92%] Built target qapprove\n",
            "[ 96%] \u001b[32mBuilding CXX object CMakeFiles/qapver.dir/qapver.cpp.o\u001b[0m\n",
            "[100%] \u001b[32m\u001b[1mLinking CXX executable qapver\u001b[0m\n",
            "[100%] Built target qapver\n",
            "\u001b[35m\u001b[1mConsolidate compiler generated dependencies of target zm\u001b[0m\n",
            "[ 12%] Built target zm\n",
            "\u001b[35m\u001b[1mConsolidate compiler generated dependencies of target qap\u001b[0m\n",
            "[ 52%] Built target qap\n",
            "\u001b[35m\u001b[1mConsolidate compiler generated dependencies of target qapgen\u001b[0m\n",
            "[ 60%] Built target qapgen\n",
            "\u001b[35m\u001b[1mConsolidate compiler generated dependencies of target qapcoeffcache\u001b[0m\n",
            "[ 68%] Built target qapcoeffcache\n",
            "\u001b[35m\u001b[1mConsolidate compiler generated dependencies of target qapgenf\u001b[0m\n",
            "[ 76%] Built target qapgenf\n",
            "\u001b[35m\u001b[1mConsolidate compiler generated dependencies of target qapinput\u001b[0m\n",
            "[ 84%] Built target qapinput\n",
            "\u001b[35m\u001b[1mConsolidate compiler generated dependencies of target qapprove\u001b[0m\n",
            "[ 92%] Built target qapprove\n",
            "\u001b[35m\u001b[1mConsolidate compiler generated dependencies of target qapver\u001b[0m\n",
            "[100%] Built target qapver\n",
            "\u001b[36mInstall the project...\u001b[0m\n",
            "-- Install configuration: \"\"\n",
            "-- Installing: /usr/local/bin/qapgen\n",
            "-- Installing: /usr/local/bin/qapcoeffcache\n",
            "-- Installing: /usr/local/bin/qapgenf\n",
            "-- Installing: /usr/local/bin/qapinput\n",
            "-- Installing: /usr/local/bin/qapprove\n",
            "-- Installing: /usr/local/bin/qapver\n"
          ]
        }
      ]
    },
    {
      "cell_type": "markdown",
      "source": [
        "## Trusted Party\n",
        "\n",
        "\n",
        "---\n",
        "\n"
      ],
      "metadata": {
        "id": "BzpLFVEybZ4d"
      }
    },
    {
      "cell_type": "markdown",
      "source": [
        "The example script solves a quadratic equation (as seen in this [article](https://medium.com/@VitalikButerin/quadratic-arithmetic-programs-from-zero-to-hero-f6d558cea649))\n",
        "\\begin{equation}\n",
        "x^3+x+5\n",
        "\\end{equation}\n",
        " and output the result."
      ],
      "metadata": {
        "id": "zJuUx6ufSUu-"
      }
    },
    {
      "cell_type": "markdown",
      "source": [
        " example.py:\n",
        "\n",
        "\n",
        "```\n",
        "import sys\n",
        "\n",
        "from pysnark.runtime import snark, PrivVal\n",
        "\n",
        "@snark\n",
        "def equation(x):\n",
        "    return x*x*x+x+5\n",
        "\n",
        "print(\"output:\", equation(int(sys.argv[1])))\n",
        "```\n",
        "\n"
      ],
      "metadata": {
        "id": "oOf3o94JSnHE"
      }
    },
    {
      "cell_type": "markdown",
      "source": [
        "Downloading the script:"
      ],
      "metadata": {
        "id": "6nDVeuaZfISb"
      }
    },
    {
      "cell_type": "code",
      "source": [
        "!cd TrustedParty && wget https://raw.githubusercontent.com/giu176/NetworkSecurity-ZKP/main/example.py"
      ],
      "metadata": {
        "colab": {
          "base_uri": "https://localhost:8080/"
        },
        "id": "FBrxi0ckNp9k",
        "outputId": "e2a67f6d-dd6b-4285-f524-b4664373eaba"
      },
      "execution_count": 2,
      "outputs": [
        {
          "output_type": "stream",
          "name": "stdout",
          "text": [
            "--2022-08-25 10:06:38--  https://raw.githubusercontent.com/giu176/NetworkSecurity-ZKP/main/example.py\n",
            "Resolving raw.githubusercontent.com (raw.githubusercontent.com)... 185.199.108.133, 185.199.109.133, 185.199.110.133, ...\n",
            "Connecting to raw.githubusercontent.com (raw.githubusercontent.com)|185.199.108.133|:443... connected.\n",
            "HTTP request sent, awaiting response... 200 OK\n",
            "Length: 147 [text/plain]\n",
            "Saving to: ‘example.py’\n",
            "\n",
            "\rexample.py            0%[                    ]       0  --.-KB/s               \rexample.py          100%[===================>]     147  --.-KB/s    in 0s      \n",
            "\n",
            "2022-08-25 10:06:38 (5.93 MB/s) - ‘example.py’ saved [147/147]\n",
            "\n"
          ]
        }
      ]
    },
    {
      "cell_type": "markdown",
      "source": [
        "The Trusted Party runs the the script with an input of its choiche. (input x=3 to follow the example in the [article](https://medium.com/@VitalikButerin/quadratic-arithmetic-programs-from-zero-to-hero-f6d558cea649))."
      ],
      "metadata": {
        "id": "welGC-2dXXzs"
      }
    },
    {
      "cell_type": "code",
      "source": [
        "!cd TrustedParty && python example.py 3"
      ],
      "metadata": {
        "colab": {
          "base_uri": "https://localhost:8080/"
        },
        "id": "L5bkahFCNzuV",
        "outputId": "e3f141f8-f2d5-48ae-ffed-a3231f611260"
      },
      "execution_count": 7,
      "outputs": [
        {
          "output_type": "stream",
          "name": "stdout",
          "text": [
            "*** Error loading backend pysnark.libsnark.backend: No module named 'libsnark'\n",
            "*** Error loading backend pysnark.libsnark.backendgg: No module named 'libsnark'\n",
            "output: 35\n",
            "*** qaptools subroutines:\n",
            "***    id: main function: main digest: 314adf18c4 #constraints: 5 *\n",
            "*** generating master key material\n",
            "*** new signature for function main, rebuilding keys\n",
            "*** verification succeeded\n",
            "***  prover keys/eqs:  pysnark_masterek pysnark_ek_main pysnark_eqs_main pysnark_schedule\n",
            "***  prover data:      \n",
            "***  verifier keys:    pysnark_masterpk pysnark_vk_main pysnark_schedule\n",
            "***  verifier data:     pysnark_proof pysnark_values\n",
            "***  verifier cmd:     qapver pysnark_masterpk pysnark_schedule pysnark_proof pysnark_values\n"
          ]
        }
      ]
    },
    {
      "cell_type": "markdown",
      "source": [
        "At this point pysnark execute a runtime script that generates a circuit file and a witness file. The circuit is a conversion of the complex mathematical statements inside the python script into simple statements (y = x or y = x [op] z) where [op] is an operator: \"+\" \"-\" \"*\" or \"/\". \n",
        "\n",
        "The quadratic function in the example will be:\n",
        "\\begin{equation}\n",
        "k=input\\times input\n",
        "\\\\\n",
        "y=k\\times input\n",
        "\\\\\n",
        "z=y+input\n",
        "\\\\\n",
        "output=z+5\n",
        "\\end{equation}\n",
        "\n",
        "This is called circuit because the simple statements can be used to build a logic gates circuit using AND gates and OR gates that performs the mathematical operation.\n",
        "\n",
        "Each logic gate in the circuit is now converted using the standard format R1CS (Rank-1 Constraint System) into a triple of vectors (A,B,C) such as:\n",
        "\\begin{equation}\n",
        "S\\cdot A\\times S\\cdot B - S\\cdot C=0\n",
        "\\end{equation}\n",
        "\n",
        "Where S is the witness: a vector containing 1, the input, the output and all the solution of the simple statements. \n",
        "\n",
        "In our example:\n",
        "\n",
        "\\begin{equation}\n",
        "S=[1,input,output,k,y,z]\n",
        "\\\\\n",
        "S=[1,3,35,9,27,30]\n",
        "\\end{equation}\n",
        "\n",
        "The output of the runtime application is circuit.r1cs which contains every A,B and C vectors for every logic gate and the witness.wtns file that contains S.\n",
        "\n",
        "Those file can be seen if the installation of the backend is skipped because otherwise one of the three available backends for pysnark is called and gets the vectors directly from the runtime script without producing any file."
      ],
      "metadata": {
        "id": "P1EFg3aZFjPa"
      }
    },
    {
      "cell_type": "markdown",
      "source": [
        "Distributing files to the Prover:"
      ],
      "metadata": {
        "id": "i4XNmK0MiQWI"
      }
    },
    {
      "cell_type": "code",
      "source": [
        "!cp ./TrustedParty/example.py ./Prover/example.py\n",
        "!cp ./TrustedParty/pysnark_schedule ./Prover/pysnark_schedule\n",
        "!cp ./TrustedParty/pysnark_masterek ./Prover/pysnark_masterek\n",
        "!cp ./TrustedParty/pysnark_ek_main ./Prover/pysnark_ek_main\n",
        "!cp ./TrustedParty/pysnark_eqs_main ./Prover/pysnark_eqs_main\n",
        "!cp ./TrustedParty/pysnark_masterpk ./Prover/pysnark_masterpk"
      ],
      "metadata": {
        "id": "MfwIkaV7iYzS"
      },
      "execution_count": 5,
      "outputs": []
    },
    {
      "cell_type": "markdown",
      "source": [
        "Distributing files to the Verifier:"
      ],
      "metadata": {
        "id": "abZ2CjIjjL5N"
      }
    },
    {
      "cell_type": "code",
      "source": [
        "!cp ./TrustedParty/pysnark_schedule ./Verifier//pysnark_schedule\n",
        "!cp ./TrustedParty/pysnark_masterpk ./Verifier/pysnark_masterpk\n",
        "!cp ./TrustedParty/pysnark_vk_main ./Verifier/pysnark_vk_main"
      ],
      "metadata": {
        "id": "pGQ_KYMJjOiN"
      },
      "execution_count": 6,
      "outputs": []
    },
    {
      "cell_type": "markdown",
      "source": [
        "## Prover\n",
        "\n",
        "\n",
        "---\n",
        "\n"
      ],
      "metadata": {
        "id": "u7liVUcmhkkO"
      }
    },
    {
      "cell_type": "code",
      "source": [
        "!cd Prover && python example.py 3"
      ],
      "metadata": {
        "colab": {
          "base_uri": "https://localhost:8080/"
        },
        "id": "5jBP8ha-hrVe",
        "outputId": "bbaca897-67a4-42f0-81e4-12f23a580e53"
      },
      "execution_count": 7,
      "outputs": [
        {
          "output_type": "stream",
          "name": "stdout",
          "text": [
            "*** Error loading backend pysnark.libsnark.backend: No module named 'libsnark'\n",
            "*** Error loading backend pysnark.libsnark.backendgg: No module named 'libsnark'\n",
            "output: 35\n",
            "*** qaptools subroutines:\n",
            "***    id: main function: main digest: 314adf18c4 #constraints: 5 *\n",
            "*** verification keys missing, skipping verification\n",
            "***  prover keys/eqs:  pysnark_masterek pysnark_ek_main pysnark_eqs_main pysnark_schedule\n",
            "***  prover data:      \n",
            "***  verifier keys:    pysnark_masterpk pysnark_vk_main pysnark_schedule\n",
            "***  verifier data:     pysnark_proof pysnark_values\n",
            "***  verifier cmd:     qapver pysnark_masterpk pysnark_schedule pysnark_proof pysnark_values\n"
          ]
        }
      ]
    },
    {
      "cell_type": "markdown",
      "source": [
        "Distributing files to the Verifier:"
      ],
      "metadata": {
        "id": "DOOT1qtQkHPH"
      }
    },
    {
      "cell_type": "code",
      "source": [
        "!cp ./Prover/pysnark_proof ./Verifier/pysnark_proof\n",
        "!cp ./Prover/pysnark_values ./Verifier/pysnark_values"
      ],
      "metadata": {
        "id": "lTgqQYUNkHpk"
      },
      "execution_count": 8,
      "outputs": []
    },
    {
      "cell_type": "markdown",
      "source": [
        "## Verifier\n",
        "\n",
        "\n",
        "---\n",
        "\n"
      ],
      "metadata": {
        "id": "aTOLQ0WUhoc4"
      }
    },
    {
      "cell_type": "code",
      "source": [
        "!cd Verifier && python -m pysnark.qaptools.runqapver"
      ],
      "metadata": {
        "id": "C0YKM5JlkZxr"
      },
      "execution_count": 9,
      "outputs": []
    }
  ]
}