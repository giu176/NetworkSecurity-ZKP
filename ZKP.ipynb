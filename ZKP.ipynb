{
  "nbformat": 4,
  "nbformat_minor": 0,
  "metadata": {
    "colab": {
      "name": "ZKP.ipynb",
      "provenance": [],
      "collapsed_sections": [
        "aQV7YvncuZpF",
        "BzpLFVEybZ4d",
        "u7liVUcmhkkO"
      ],
      "authorship_tag": "ABX9TyMtuf9t2kcdfQ0dG0nslN1O",
      "include_colab_link": true
    },
    "kernelspec": {
      "name": "python3",
      "display_name": "Python 3"
    },
    "language_info": {
      "name": "python"
    }
  },
  "cells": [
    {
      "cell_type": "markdown",
      "metadata": {
        "id": "view-in-github",
        "colab_type": "text"
      },
      "source": [
        "<a href=\"https://colab.research.google.com/github/giu176/NetworkSecurity-ZKP/blob/main/ZKP.ipynb\" target=\"_parent\"><img src=\"https://colab.research.google.com/assets/colab-badge.svg\" alt=\"Open In Colab\"/></a>"
      ]
    },
    {
      "cell_type": "markdown",
      "source": [
        "# ZERO KNOWLEDGE PROOF\n",
        "\n",
        "---\n",
        "\n",
        "\n",
        "\n",
        "\n",
        "\n",
        "Project for Network Security and Cryptography\n",
        "by Giulio Bosisio"
      ],
      "metadata": {
        "id": "2TEqcwkctiyw"
      }
    },
    {
      "cell_type": "markdown",
      "source": [
        "The aim of the simulation is to perform a ZK-SNARK (Zero Knowledge - Succinct Non-Interactive Argument of Knowledge) computation of a python script. Succint means that the computation produce a proof that is both small in size and fast to verify. This proof is also constructed without interacting the verifier which makes the computation Non-Interactive, a classical Interactive protocol would have required the Verifier to challenge the Prover in real time. With a SNARK proof (a textual file) the Verifier can perform a verification whenever he wants without gaining any additional information about the witness (solution of the problem, the python script in this simulation) the verifier knows only the output of a specific input of the program (Zero Knowledge)."
      ],
      "metadata": {
        "id": "t1K0l7syB3MF"
      }
    },
    {
      "cell_type": "markdown",
      "source": [
        "Properties of Zero Knowledge:\n",
        "*   Completeness: If the Prover is honest, then it will eventually convince the Verifier.\n",
        "*   Soundness: The Prover can only convince the Verifier if the statement is true.\n",
        "*   Zero-knowledge(ness): The Verifier learns no information beyond the fact that the statement is true.\n",
        "\n"
      ],
      "metadata": {
        "id": "WTMsA9W2twZF"
      }
    },
    {
      "cell_type": "markdown",
      "source": [
        "## Installing dependencies:\n",
        "\n",
        "\n",
        "---\n",
        "\n"
      ],
      "metadata": {
        "id": "aQV7YvncuZpF"
      }
    },
    {
      "cell_type": "code",
      "execution_count": null,
      "metadata": {
        "colab": {
          "base_uri": "https://localhost:8080/"
        },
        "id": "luvsHVNNso-E",
        "outputId": "68fa1092-c5c0-4585-e38f-ecc44d66b1ff"
      },
      "outputs": [
        {
          "output_type": "stream",
          "name": "stdout",
          "text": [
            "Looking in indexes: https://pypi.org/simple, https://us-python.pkg.dev/colab-wheels/public/simple/\n",
            "Collecting git+https://github.com/meilof/pysnark\n",
            "  Cloning https://github.com/meilof/pysnark to /tmp/pip-req-build-9z49fes4\n",
            "  Running command git clone -q https://github.com/meilof/pysnark /tmp/pip-req-build-9z49fes4\n",
            "Building wheels for collected packages: PySNARK\n",
            "  Building wheel for PySNARK (setup.py) ... \u001b[?25l\u001b[?25hdone\n",
            "  Created wheel for PySNARK: filename=PySNARK-0.3.1-py3-none-any.whl size=116886 sha256=29a070cb442e31239a1d5d02d4934f7a38a8115e9966953506338cade865480d\n",
            "  Stored in directory: /tmp/pip-ephem-wheel-cache-ud2ybqut/wheels/ee/ac/e0/e83d7fb143db3e217346b033cccb8100fecdac64bc9d9237ab\n",
            "Successfully built PySNARK\n",
            "Installing collected packages: PySNARK\n",
            "Successfully installed PySNARK-0.3.1\n",
            "Reading package lists... Done\n",
            "Building dependency tree       \n",
            "Reading state information... Done\n",
            "build-essential is already the newest version (12.4ubuntu1).\n",
            "libboost-program-options-dev is already the newest version (1.65.1.0ubuntu1).\n",
            "libboost-program-options-dev set to manually installed.\n",
            "pkg-config is already the newest version (0.29.1-0ubuntu2).\n",
            "cmake is already the newest version (3.10.2-1ubuntu2.18.04.2).\n",
            "git is already the newest version (1:2.17.1-1ubuntu0.12).\n",
            "libssl-dev is already the newest version (1.1.1-1ubuntu2.1~18.04.20).\n",
            "python3 is already the newest version (3.6.7-1~18.04).\n",
            "python3 set to manually installed.\n",
            "The following package was automatically installed and is no longer required:\n",
            "  libnvidia-common-460\n",
            "Use 'sudo apt autoremove' to remove it.\n",
            "The following additional packages will be installed:\n",
            "  libgmp-dev libgmpxx4ldbl python3-pkg-resources python3-pygments python3-yaml\n",
            "Suggested packages:\n",
            "  gmp-doc libgmp10-doc libmpfr-dev python-markdown-doc python3-setuptools\n",
            "  ttf-bitstream-vera\n",
            "The following NEW packages will be installed:\n",
            "  libgmp-dev libgmp3-dev libgmpxx4ldbl libprocps-dev python3-markdown\n",
            "  python3-pkg-resources python3-pygments python3-yaml\n",
            "0 upgraded, 8 newly installed, 0 to remove and 20 not upgraded.\n",
            "Need to get 1,203 kB of archives.\n",
            "After this operation, 6,387 kB of additional disk space will be used.\n",
            "Get:1 http://archive.ubuntu.com/ubuntu bionic/main amd64 python3-yaml amd64 3.12-1build2 [109 kB]\n",
            "Get:2 http://archive.ubuntu.com/ubuntu bionic/main amd64 libgmpxx4ldbl amd64 2:6.1.2+dfsg-2 [8,964 B]\n",
            "Get:3 http://archive.ubuntu.com/ubuntu bionic/main amd64 libgmp-dev amd64 2:6.1.2+dfsg-2 [316 kB]\n",
            "Get:4 http://archive.ubuntu.com/ubuntu bionic/main amd64 libgmp3-dev amd64 2:6.1.2+dfsg-2 [1,996 B]\n",
            "Get:5 http://archive.ubuntu.com/ubuntu bionic-updates/main amd64 libprocps-dev amd64 2:3.3.12-3ubuntu1.2 [40.2 kB]\n",
            "Get:6 http://archive.ubuntu.com/ubuntu bionic/universe amd64 python3-markdown all 2.6.9-1 [53.7 kB]\n",
            "Get:7 http://archive.ubuntu.com/ubuntu bionic/main amd64 python3-pkg-resources all 39.0.1-2 [98.8 kB]\n",
            "Get:8 http://archive.ubuntu.com/ubuntu bionic-updates/main amd64 python3-pygments all 2.2.0+dfsg-1ubuntu0.2 [574 kB]\n",
            "Fetched 1,203 kB in 1s (1,449 kB/s)\n",
            "debconf: unable to initialize frontend: Dialog\n",
            "debconf: (No usable dialog-like program is installed, so the dialog based frontend cannot be used. at /usr/share/perl5/Debconf/FrontEnd/Dialog.pm line 76, <> line 8.)\n",
            "debconf: falling back to frontend: Readline\n",
            "debconf: unable to initialize frontend: Readline\n",
            "debconf: (This frontend requires a controlling tty.)\n",
            "debconf: falling back to frontend: Teletype\n",
            "dpkg-preconfigure: unable to re-open stdin: \n",
            "Selecting previously unselected package python3-yaml.\n",
            "(Reading database ... 155676 files and directories currently installed.)\n",
            "Preparing to unpack .../0-python3-yaml_3.12-1build2_amd64.deb ...\n",
            "Unpacking python3-yaml (3.12-1build2) ...\n",
            "Selecting previously unselected package libgmpxx4ldbl:amd64.\n",
            "Preparing to unpack .../1-libgmpxx4ldbl_2%3a6.1.2+dfsg-2_amd64.deb ...\n",
            "Unpacking libgmpxx4ldbl:amd64 (2:6.1.2+dfsg-2) ...\n",
            "Selecting previously unselected package libgmp-dev:amd64.\n",
            "Preparing to unpack .../2-libgmp-dev_2%3a6.1.2+dfsg-2_amd64.deb ...\n",
            "Unpacking libgmp-dev:amd64 (2:6.1.2+dfsg-2) ...\n",
            "Selecting previously unselected package libgmp3-dev.\n",
            "Preparing to unpack .../3-libgmp3-dev_2%3a6.1.2+dfsg-2_amd64.deb ...\n",
            "Unpacking libgmp3-dev (2:6.1.2+dfsg-2) ...\n",
            "Selecting previously unselected package libprocps-dev:amd64.\n",
            "Preparing to unpack .../4-libprocps-dev_2%3a3.3.12-3ubuntu1.2_amd64.deb ...\n",
            "Unpacking libprocps-dev:amd64 (2:3.3.12-3ubuntu1.2) ...\n",
            "Selecting previously unselected package python3-markdown.\n",
            "Preparing to unpack .../5-python3-markdown_2.6.9-1_all.deb ...\n",
            "Unpacking python3-markdown (2.6.9-1) ...\n",
            "Selecting previously unselected package python3-pkg-resources.\n",
            "Preparing to unpack .../6-python3-pkg-resources_39.0.1-2_all.deb ...\n",
            "Unpacking python3-pkg-resources (39.0.1-2) ...\n",
            "Selecting previously unselected package python3-pygments.\n",
            "Preparing to unpack .../7-python3-pygments_2.2.0+dfsg-1ubuntu0.2_all.deb ...\n",
            "Unpacking python3-pygments (2.2.0+dfsg-1ubuntu0.2) ...\n",
            "Setting up libprocps-dev:amd64 (2:3.3.12-3ubuntu1.2) ...\n",
            "Setting up python3-yaml (3.12-1build2) ...\n",
            "Setting up python3-markdown (2.6.9-1) ...\n",
            "Setting up python3-pkg-resources (39.0.1-2) ...\n",
            "Setting up libgmpxx4ldbl:amd64 (2:6.1.2+dfsg-2) ...\n",
            "Setting up python3-pygments (2.2.0+dfsg-1ubuntu0.2) ...\n",
            "Setting up libgmp-dev:amd64 (2:6.1.2+dfsg-2) ...\n",
            "Setting up libgmp3-dev (2:6.1.2+dfsg-2) ...\n",
            "Processing triggers for libc-bin (2.27-3ubuntu1.5) ...\n"
          ]
        }
      ],
      "source": [
        "!mkdir TrustedParty && mkdir Prover && mkdir Verifier\n",
        "!pip3 install git+https://github.com/meilof/pysnark\n",
        "!sudo apt install build-essential cmake git libgmp3-dev libprocps-dev python3-markdown libboost-program-options-dev libssl-dev python3 pkg-config"
      ]
    },
    {
      "cell_type": "markdown",
      "source": [
        "Default backend for pysnark:\n",
        "```\n",
        "pip3 install python-libsnark\n",
        "```\n",
        "libsnark backend doesn't work on Google Colab, so I used another backend ([qaptools](https://github.com/Charterhouse/qaptools)).\n",
        "\n",
        "Building qaptools backend:"
      ],
      "metadata": {
        "id": "sT17Viq3ZFEV"
      }
    },
    {
      "cell_type": "code",
      "source": [
        "!git clone --recursive https://github.com/Charterhouse/qaptools.git\n",
        "!cd qaptools/ && mkdir build && cd build/ && cmake .. -DCURVE=ALT_BN128 -DUSE_PT_COMPRESSION=OFF -DWITH_PROCPS=OFF -DBINARY_OUTPUT=OFF && make && sudo make install"
      ],
      "metadata": {
        "colab": {
          "base_uri": "https://localhost:8080/"
        },
        "id": "1ZIRJw4-Q7Vd",
        "outputId": "ef642e3c-49f4-43d0-947c-ebdf4735e2e4"
      },
      "execution_count": null,
      "outputs": [
        {
          "output_type": "stream",
          "name": "stdout",
          "text": [
            "Cloning into 'qaptools'...\n",
            "remote: Enumerating objects: 70, done.\u001b[K\n",
            "remote: Total 70 (delta 0), reused 0 (delta 0), pack-reused 70\u001b[K\n",
            "Unpacking objects: 100% (70/70), done.\n",
            "Submodule 'depends/ate-pairing' (https://github.com/herumi/ate-pairing) registered for path 'depends/ate-pairing'\n",
            "Submodule 'depends/xbyak' (https://github.com/herumi/xbyak) registered for path 'depends/xbyak'\n",
            "Cloning into '/content/qaptools/depends/ate-pairing'...\n",
            "remote: Enumerating objects: 1479, done.        \n",
            "remote: Total 1479 (delta 0), reused 0 (delta 0), pack-reused 1479        \n",
            "Receiving objects: 100% (1479/1479), 553.64 KiB | 13.84 MiB/s, done.\n",
            "Resolving deltas: 100% (947/947), done.\n",
            "Cloning into '/content/qaptools/depends/xbyak'...\n",
            "remote: Enumerating objects: 6461, done.        \n",
            "remote: Counting objects: 100% (1489/1489), done.        \n",
            "remote: Compressing objects: 100% (438/438), done.        \n",
            "remote: Total 6461 (delta 1086), reused 1348 (delta 1039), pack-reused 4972        \n",
            "Receiving objects: 100% (6461/6461), 2.35 MiB | 11.08 MiB/s, done.\n",
            "Resolving deltas: 100% (4468/4468), done.\n",
            "Submodule path 'depends/ate-pairing': checked out '931fa7a91f767f22b327264678bee9f1333ce954'\n",
            "Submodule path 'depends/xbyak': checked out '72b4e95dabc5a3d8e3d410aa763c3f2a8677b966'\n",
            "-- The C compiler identification is GNU 7.5.0\n",
            "-- The CXX compiler identification is GNU 7.5.0\n",
            "-- Detecting C compiler ABI info\n",
            "-- Detecting C compiler ABI info - done\n",
            "-- Check for working C compiler: /usr/bin/cc - skipped\n",
            "-- Detecting C compile features\n",
            "-- Detecting C compile features - done\n",
            "-- Detecting CXX compiler ABI info\n",
            "-- Detecting CXX compiler ABI info - done\n",
            "-- Check for working CXX compiler: /usr/bin/c++ - skipped\n",
            "-- Detecting CXX compile features\n",
            "-- Detecting CXX compile features - done\n",
            "-- Configuring done\n",
            "-- Generating done\n",
            "\u001b[33mCMake Warning:\n",
            "  Manually-specified variables were not used by the project:\n",
            "\n",
            "    BINARY_OUTPUT\n",
            "    CURVE\n",
            "    USE_PT_COMPRESSION\n",
            "    WITH_PROCPS\n",
            "\n",
            "\u001b[0m\n",
            "-- Build files have been written to: /content/qaptools/build\n",
            "[  4%] \u001b[32mBuilding CXX object CMakeFiles/zm.dir/depends/ate-pairing/src/zm.cpp.o\u001b[0m\n",
            "[  8%] \u001b[32mBuilding CXX object CMakeFiles/zm.dir/depends/ate-pairing/src/zm2.cpp.o\u001b[0m\n",
            "[ 12%] \u001b[32m\u001b[1mLinking CXX static library libzm.a\u001b[0m\n",
            "[ 12%] Built target zm\n",
            "[ 16%] \u001b[32mBuilding CXX object CMakeFiles/qap.dir/key.cpp.o\u001b[0m\n",
            "[ 20%] \u001b[32mBuilding CXX object CMakeFiles/qap.dir/proof.cpp.o\u001b[0m\n",
            "[ 24%] \u001b[32mBuilding CXX object CMakeFiles/qap.dir/modp.cpp.o\u001b[0m\n",
            "[ 28%] \u001b[32mBuilding CXX object CMakeFiles/qap.dir/base.cpp.o\u001b[0m\n",
            "[ 32%] \u001b[32mBuilding CXX object CMakeFiles/qap.dir/qap2key.cpp.o\u001b[0m\n",
            "[ 36%] \u001b[32mBuilding CXX object CMakeFiles/qap.dir/fft.cpp.o\u001b[0m\n",
            "[ 40%] \u001b[32mBuilding CXX object CMakeFiles/qap.dir/prove.cpp.o\u001b[0m\n",
            "[ 44%] \u001b[32mBuilding CXX object CMakeFiles/qap.dir/qap.cpp.o\u001b[0m\n",
            "[ 48%] \u001b[32mBuilding CXX object CMakeFiles/qap.dir/verify.cpp.o\u001b[0m\n",
            "[ 52%] \u001b[32m\u001b[1mLinking CXX static library libqap.a\u001b[0m\n",
            "[ 52%] Built target qap\n",
            "[ 56%] \u001b[32mBuilding CXX object CMakeFiles/qapgen.dir/qapgen.cpp.o\u001b[0m\n",
            "[ 60%] \u001b[32m\u001b[1mLinking CXX executable qapgen\u001b[0m\n",
            "[ 60%] Built target qapgen\n",
            "[ 64%] \u001b[32mBuilding CXX object CMakeFiles/qapcoeffcache.dir/qapcoeffcache.cpp.o\u001b[0m\n",
            "[ 68%] \u001b[32m\u001b[1mLinking CXX executable qapcoeffcache\u001b[0m\n",
            "[ 68%] Built target qapcoeffcache\n",
            "[ 72%] \u001b[32mBuilding CXX object CMakeFiles/qapgenf.dir/qapgenf.cpp.o\u001b[0m\n",
            "[ 76%] \u001b[32m\u001b[1mLinking CXX executable qapgenf\u001b[0m\n",
            "[ 76%] Built target qapgenf\n",
            "[ 80%] \u001b[32mBuilding CXX object CMakeFiles/qapinput.dir/qapinput.cpp.o\u001b[0m\n",
            "[ 84%] \u001b[32m\u001b[1mLinking CXX executable qapinput\u001b[0m\n",
            "[ 84%] Built target qapinput\n",
            "[ 88%] \u001b[32mBuilding CXX object CMakeFiles/qapprove.dir/qapprove.cpp.o\u001b[0m\n",
            "[ 92%] \u001b[32m\u001b[1mLinking CXX executable qapprove\u001b[0m\n",
            "[ 92%] Built target qapprove\n",
            "[ 96%] \u001b[32mBuilding CXX object CMakeFiles/qapver.dir/qapver.cpp.o\u001b[0m\n",
            "[100%] \u001b[32m\u001b[1mLinking CXX executable qapver\u001b[0m\n",
            "[100%] Built target qapver\n",
            "\u001b[35m\u001b[1mConsolidate compiler generated dependencies of target zm\u001b[0m\n",
            "[ 12%] Built target zm\n",
            "\u001b[35m\u001b[1mConsolidate compiler generated dependencies of target qap\u001b[0m\n",
            "[ 52%] Built target qap\n",
            "\u001b[35m\u001b[1mConsolidate compiler generated dependencies of target qapgen\u001b[0m\n",
            "[ 60%] Built target qapgen\n",
            "\u001b[35m\u001b[1mConsolidate compiler generated dependencies of target qapcoeffcache\u001b[0m\n",
            "[ 68%] Built target qapcoeffcache\n",
            "\u001b[35m\u001b[1mConsolidate compiler generated dependencies of target qapgenf\u001b[0m\n",
            "[ 76%] Built target qapgenf\n",
            "\u001b[35m\u001b[1mConsolidate compiler generated dependencies of target qapinput\u001b[0m\n",
            "[ 84%] Built target qapinput\n",
            "\u001b[35m\u001b[1mConsolidate compiler generated dependencies of target qapprove\u001b[0m\n",
            "[ 92%] Built target qapprove\n",
            "\u001b[35m\u001b[1mConsolidate compiler generated dependencies of target qapver\u001b[0m\n",
            "[100%] Built target qapver\n",
            "\u001b[36mInstall the project...\u001b[0m\n",
            "-- Install configuration: \"\"\n",
            "-- Installing: /usr/local/bin/qapgen\n",
            "-- Installing: /usr/local/bin/qapcoeffcache\n",
            "-- Installing: /usr/local/bin/qapgenf\n",
            "-- Installing: /usr/local/bin/qapinput\n",
            "-- Installing: /usr/local/bin/qapprove\n",
            "-- Installing: /usr/local/bin/qapver\n"
          ]
        }
      ]
    },
    {
      "cell_type": "markdown",
      "source": [
        "## Trusted Party\n",
        "\n",
        "\n",
        "---\n",
        "\n"
      ],
      "metadata": {
        "id": "BzpLFVEybZ4d"
      }
    },
    {
      "cell_type": "markdown",
      "source": [
        "The example script perform a quadratic equation (as seen in this [example](https://medium.com/@VitalikButerin/quadratic-arithmetic-programs-from-zero-to-hero-f6d558cea649)) and output the result."
      ],
      "metadata": {
        "id": "zJuUx6ufSUu-"
      }
    },
    {
      "cell_type": "markdown",
      "source": [
        " example.py:\n",
        "\n",
        "\n",
        "```\n",
        "import sys\n",
        "\n",
        "from pysnark.runtime import snark, PrivVal\n",
        "\n",
        "@snark\n",
        "def equation(x):\n",
        "    return x*x*x+x+5\n",
        "\n",
        "print(\"output:\", equation(int(sys.argv[1])))\n",
        "```\n",
        "\n"
      ],
      "metadata": {
        "id": "oOf3o94JSnHE"
      }
    },
    {
      "cell_type": "markdown",
      "source": [
        "Getting the script:"
      ],
      "metadata": {
        "id": "6nDVeuaZfISb"
      }
    },
    {
      "cell_type": "code",
      "source": [
        "!cd TrustedParty && wget https://raw.githubusercontent.com/giu176/NetworkSecurity-ZKP/main/example.py"
      ],
      "metadata": {
        "colab": {
          "base_uri": "https://localhost:8080/"
        },
        "id": "FBrxi0ckNp9k",
        "outputId": "1ebc20b7-d007-4de2-b27d-e879772cdf6c"
      },
      "execution_count": 3,
      "outputs": [
        {
          "output_type": "stream",
          "name": "stdout",
          "text": [
            "--2022-08-25 09:09:50--  https://raw.githubusercontent.com/giu176/NetworkSecurity-ZKP/main/example.py\n",
            "Resolving raw.githubusercontent.com (raw.githubusercontent.com)... 185.199.111.133, 185.199.109.133, 185.199.108.133, ...\n",
            "Connecting to raw.githubusercontent.com (raw.githubusercontent.com)|185.199.111.133|:443... connected.\n",
            "HTTP request sent, awaiting response... 200 OK\n",
            "Length: 147 [text/plain]\n",
            "Saving to: ‘example.py’\n",
            "\n",
            "example.py          100%[===================>]     147  --.-KB/s    in 0s      \n",
            "\n",
            "2022-08-25 09:09:50 (9.12 MB/s) - ‘example.py’ saved [147/147]\n",
            "\n"
          ]
        }
      ]
    },
    {
      "cell_type": "code",
      "source": [
        "!cd TrustedParty && python example.py 3"
      ],
      "metadata": {
        "colab": {
          "base_uri": "https://localhost:8080/"
        },
        "id": "L5bkahFCNzuV",
        "outputId": "37f60abc-8973-4432-f9d3-ef7fae3b0512"
      },
      "execution_count": 4,
      "outputs": [
        {
          "output_type": "stream",
          "name": "stdout",
          "text": [
            "*** Error loading backend pysnark.libsnark.backend: No module named 'libsnark'\n",
            "*** Error loading backend pysnark.libsnark.backendgg: No module named 'libsnark'\n",
            "output: 35\n",
            "*** qaptools subroutines:\n",
            "***    id: main function: main digest: 314adf18c4 #constraints: 5 *\n",
            "*** generating master key material\n",
            "*** new signature for function main, rebuilding keys\n",
            "*** verification succeeded\n",
            "***  prover keys/eqs:  pysnark_masterek pysnark_ek_main pysnark_eqs_main pysnark_schedule\n",
            "***  prover data:      \n",
            "***  verifier keys:    pysnark_masterpk pysnark_vk_main pysnark_schedule\n",
            "***  verifier data:     pysnark_proof pysnark_values\n",
            "***  verifier cmd:     qapver pysnark_masterpk pysnark_schedule pysnark_proof pysnark_values\n"
          ]
        }
      ]
    },
    {
      "cell_type": "markdown",
      "source": [],
      "metadata": {
        "id": "P1EFg3aZFjPa"
      }
    },
    {
      "cell_type": "markdown",
      "source": [
        "Distributing files to the Prover:"
      ],
      "metadata": {
        "id": "i4XNmK0MiQWI"
      }
    },
    {
      "cell_type": "code",
      "source": [
        "!cp ./TrustedParty/example.py ./Prover/example.py\n",
        "!cp ./TrustedParty/pysnark_schedule ./Prover/pysnark_schedule\n",
        "!cp ./TrustedParty/pysnark_masterek ./Prover/pysnark_masterek\n",
        "!cp ./TrustedParty/pysnark_ek_main ./Prover/pysnark_ek_main\n",
        "!cp ./TrustedParty/pysnark_eqs_main ./Prover/pysnark_eqs_main\n",
        "!cp ./TrustedParty/pysnark_masterpk ./Prover/pysnark_masterpk"
      ],
      "metadata": {
        "id": "MfwIkaV7iYzS"
      },
      "execution_count": 5,
      "outputs": []
    },
    {
      "cell_type": "markdown",
      "source": [
        "Distributing files to the Verifier:"
      ],
      "metadata": {
        "id": "abZ2CjIjjL5N"
      }
    },
    {
      "cell_type": "code",
      "source": [
        "!cp ./TrustedParty/pysnark_schedule ./Verifier//pysnark_schedule\n",
        "!cp ./TrustedParty/pysnark_masterpk ./Verifier/pysnark_masterpk\n",
        "!cp ./TrustedParty/pysnark_vk_main ./Verifier/pysnark_vk_main"
      ],
      "metadata": {
        "id": "pGQ_KYMJjOiN"
      },
      "execution_count": 6,
      "outputs": []
    },
    {
      "cell_type": "markdown",
      "source": [
        "## Prover\n",
        "\n",
        "\n",
        "---\n",
        "\n"
      ],
      "metadata": {
        "id": "u7liVUcmhkkO"
      }
    },
    {
      "cell_type": "code",
      "source": [
        "!cd Prover && python example.py 3"
      ],
      "metadata": {
        "colab": {
          "base_uri": "https://localhost:8080/"
        },
        "id": "5jBP8ha-hrVe",
        "outputId": "bbaca897-67a4-42f0-81e4-12f23a580e53"
      },
      "execution_count": 7,
      "outputs": [
        {
          "output_type": "stream",
          "name": "stdout",
          "text": [
            "*** Error loading backend pysnark.libsnark.backend: No module named 'libsnark'\n",
            "*** Error loading backend pysnark.libsnark.backendgg: No module named 'libsnark'\n",
            "output: 35\n",
            "*** qaptools subroutines:\n",
            "***    id: main function: main digest: 314adf18c4 #constraints: 5 *\n",
            "*** verification keys missing, skipping verification\n",
            "***  prover keys/eqs:  pysnark_masterek pysnark_ek_main pysnark_eqs_main pysnark_schedule\n",
            "***  prover data:      \n",
            "***  verifier keys:    pysnark_masterpk pysnark_vk_main pysnark_schedule\n",
            "***  verifier data:     pysnark_proof pysnark_values\n",
            "***  verifier cmd:     qapver pysnark_masterpk pysnark_schedule pysnark_proof pysnark_values\n"
          ]
        }
      ]
    },
    {
      "cell_type": "markdown",
      "source": [
        "Distributing files to the Verifier:"
      ],
      "metadata": {
        "id": "DOOT1qtQkHPH"
      }
    },
    {
      "cell_type": "code",
      "source": [
        "!cp ./Prover/pysnark_proof ./Verifier/pysnark_proof\n",
        "!cp ./Prover/pysnark_values ./Verifier/pysnark_values"
      ],
      "metadata": {
        "id": "lTgqQYUNkHpk"
      },
      "execution_count": 8,
      "outputs": []
    },
    {
      "cell_type": "markdown",
      "source": [
        "## Verifier\n",
        "\n",
        "\n",
        "---\n",
        "\n"
      ],
      "metadata": {
        "id": "aTOLQ0WUhoc4"
      }
    },
    {
      "cell_type": "code",
      "source": [
        "!cd Verifier && python -m pysnark.qaptools.runqapver"
      ],
      "metadata": {
        "id": "C0YKM5JlkZxr"
      },
      "execution_count": 9,
      "outputs": []
    }
  ]
}